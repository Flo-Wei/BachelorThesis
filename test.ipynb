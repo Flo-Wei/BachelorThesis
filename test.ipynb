{
 "cells": [
  {
   "cell_type": "code",
   "execution_count": 7,
   "id": "f38127dd",
   "metadata": {},
   "outputs": [],
   "source": [
    "import os\n",
    "import openai\n",
    "from dotenv import load_dotenv\n",
    "\n",
    "load_dotenv()\n",
    "api_key = os.getenv(\"OPENAI_API_KEY\")\n",
    "client = openai.OpenAI(api_key=api_key)\n"
   ]
  },
  {
   "cell_type": "code",
   "execution_count": null,
   "id": "5c194c4d",
   "metadata": {},
   "outputs": [],
   "source": [
    "schema = {\n",
    "  \"type\": \"object\",\n",
    "  \"properties\": {\n",
    "    \"skills_and_competencies\": {\n",
    "      \"type\": \"array\",\n",
    "      \"items\": {\n",
    "        \"type\": \"object\",\n",
    "        \"properties\": {\n",
    "          \"name\": {\n",
    "            \"type\": \"string\",\n",
    "            \"description\": \"The name of the skill or competency identified.\"\n",
    "          },\n",
    "          \"type\": {\n",
    "            \"type\": \"string\",\n",
    "            \"enum\": [\"technical\", \"soft\", \"domain-specific\", \"other\"],\n",
    "            \"description\": \"The category of the skill.\"\n",
    "          },\n",
    "          \"confidence\": {\n",
    "            \"type\": \"number\",\n",
    "            \"minimum\": 0,\n",
    "            \"maximum\": 1,\n",
    "            \"description\": \"Confidence score in the inference, from 0 (low) to 1 (high).\"\n",
    "          },\n",
    "          \"evidence\": {\n",
    "            \"type\": \"string\",\n",
    "            \"description\": \"Direct quote or paraphrased section of the interview that supports the inference.\"\n",
    "          }\n",
    "        },\n",
    "        \"required\": [\"name\", \"type\", \"confidence\", \"evidence\"]\n",
    "      }\n",
    "    }\n",
    "  },\n",
    "  \"required\": [\"skills_and_competencies\"]\n",
    "}"
   ]
  },
  {
   "cell_type": "code",
   "execution_count": 16,
   "id": "c3cfb0bd",
   "metadata": {},
   "outputs": [
    {
     "data": {
      "text/plain": [
       "CustomSkillList(skills=[CustomSkill(name='AI Programming', type='technical', confidence=0.9, evidence='I like programming AI'), CustomSkill(name='Interpersonal Skills', type='soft', confidence=0.8, evidence='I am fairly good at connecting with people.')])"
      ]
     },
     "execution_count": 16,
     "metadata": {},
     "output_type": "execute_result"
    }
   ],
   "source": [
    "from pydantic import BaseModel, Field\n",
    "from typing import List, Literal\n",
    "\n",
    "class BaseSkill(BaseModel):\n",
    "    pass\n",
    "\n",
    "class CustomSkill(BaseSkill):\n",
    "    name: str\n",
    "    type: Literal[\"technical\", \"soft\", \"domain-specific\", \"other\"]\n",
    "    confidence: float = Field(ge=0, le=1)\n",
    "    evidence: str = Field(description=\"Direct quote or paraphrased section of the interview that supports the inference.\")\n",
    "\n",
    "class SkillList(BaseModel):\n",
    "    skills: List[BaseSkill]\n",
    "class CustomSkillList(SkillList):\n",
    "    skills: List[CustomSkill]\n",
    "\n",
    "\n",
    "response = client.responses.parse(\n",
    "    model=\"gpt-4o-2024-08-06\",\n",
    "    input=[\n",
    "        {\"role\": \"system\", \"content\": \"Extract what skills the user has.\"},\n",
    "        {\n",
    "            \"role\": \"user\",\n",
    "            \"content\": \"I like programming AI and am fairly good at connecting with people.\",\n",
    "        },\n",
    "    ],\n",
    "    text_format=CustomSkillList,\n",
    ")\n",
    "\n",
    "response.output_parsed"
   ]
  },
  {
   "cell_type": "code",
   "execution_count": null,
   "id": "7f3e15af",
   "metadata": {},
   "outputs": [],
   "source": []
  }
 ],
 "metadata": {
  "kernelspec": {
   "display_name": ".venv",
   "language": "python",
   "name": "python3"
  },
  "language_info": {
   "codemirror_mode": {
    "name": "ipython",
    "version": 3
   },
   "file_extension": ".py",
   "mimetype": "text/x-python",
   "name": "python",
   "nbconvert_exporter": "python",
   "pygments_lexer": "ipython3",
   "version": "3.13.5"
  }
 },
 "nbformat": 4,
 "nbformat_minor": 5
}
